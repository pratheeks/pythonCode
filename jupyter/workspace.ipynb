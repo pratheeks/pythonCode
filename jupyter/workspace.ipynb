{
 "cells": [
  {
   "cell_type": "code",
   "execution_count": 2,
   "metadata": {},
   "outputs": [
    {
     "name": "stdout",
     "output_type": "stream",
     "text": [
      "['A', 'b', 'c']\n",
      "A\n",
      "b\n",
      "c\n"
     ]
    }
   ],
   "source": [
    "lst=['a'.upper(),'b','c']\n",
    "print(lst)\n",
    "for i in lst:\n",
    "    i.upper()\n",
    "    print(i)"
   ]
  },
  {
   "cell_type": "code",
   "execution_count": 14,
   "metadata": {},
   "outputs": [
    {
     "name": "stdout",
     "output_type": "stream",
     "text": [
      "2\n"
     ]
    }
   ],
   "source": [
    "i=1\n",
    "while True:\n",
    "    if i%2==0:\n",
    "        break\n",
    "    else:\n",
    "        i += 1\n",
    "        print(i)\n",
    "    "
   ]
  },
  {
   "cell_type": "code",
   "execution_count": 16,
   "metadata": {},
   "outputs": [
    {
     "name": "stdout",
     "output_type": "stream",
     "text": [
      "3\n",
      "4\n"
     ]
    }
   ],
   "source": [
    "i=3\n",
    "while True:\n",
    "    if i%0o5==0:\n",
    "        break\n",
    "    print(i)\n",
    "    i+=1"
   ]
  },
  {
   "cell_type": "code",
   "execution_count": 31,
   "metadata": {},
   "outputs": [
    {
     "data": {
      "text/plain": [
       "'0o5'"
      ]
     },
     "execution_count": 31,
     "metadata": {},
     "output_type": "execute_result"
    }
   ],
   "source": [
    "oct(5)"
   ]
  },
  {
   "cell_type": "code",
   "execution_count": 28,
   "metadata": {},
   "outputs": [
    {
     "name": "stdout",
     "output_type": "stream",
     "text": [
      "[11, 12, 13]\n",
      "[24, 25, [26, 27, 28, 29]]\n",
      "[32, 33]\n",
      "[2, 4, 17, 19, 35]\n",
      "\n"
     ]
    }
   ],
   "source": [
    "l=[1,2,3,4,[5,6,7,8,[9,10,11,12,13],14,15,16],17,18,19,[20,21,22,[23,24,25,[26,27,28,29],30,31],32,33,34],35,36,37]\n",
    "print(l[4][4][2:])\n",
    "print(l[-4][3][1:4])\n",
    "print(l[-4][-3:-1])\n",
    "print(l[1:-1:2])"
   ]
  }
 ],
 "metadata": {
  "kernelspec": {
   "display_name": "Python 3",
   "language": "python",
   "name": "python3"
  },
  "language_info": {
   "codemirror_mode": {
    "name": "ipython",
    "version": 3
   },
   "file_extension": ".py",
   "mimetype": "text/x-python",
   "name": "python",
   "nbconvert_exporter": "python",
   "pygments_lexer": "ipython3",
   "version": "3.7.1"
  }
 },
 "nbformat": 4,
 "nbformat_minor": 2
}
